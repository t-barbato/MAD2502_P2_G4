{
 "cells": [
  {
   "cell_type": "code",
   "execution_count": null,
   "id": "initial_id",
   "metadata": {
    "collapsed": true
   },
   "outputs": [],
   "source": [
    ""
   ]
  },
  {
   "metadata": {
    "jupyter": {
     "is_executing": true
    }
   },
   "cell_type": "code",
   "source": [
    "import mandelbrot\n",
    "from matplotlib import pyplot as plt\n",
    "\n",
    "grid = mandelbrot.get_complex_grid(-2+1.25j, 0.5-1.25j, 0.01)\n",
    "colors = mandelbrot.get_escape_time_color_arr(grid, 30)\n",
    "\n",
    "plt.imshow(colors, cmap=\"Greys\")"
   ],
   "id": "c9860acfc19c26c3",
   "outputs": [],
   "execution_count": null
  }
 ],
 "metadata": {
  "kernelspec": {
   "display_name": "Python 3",
   "language": "python",
   "name": "python3"
  },
  "language_info": {
   "codemirror_mode": {
    "name": "ipython",
    "version": 2
   },
   "file_extension": ".py",
   "mimetype": "text/x-python",
   "name": "python",
   "nbconvert_exporter": "python",
   "pygments_lexer": "ipython2",
   "version": "2.7.6"
  }
 },
 "nbformat": 4,
 "nbformat_minor": 5
}
